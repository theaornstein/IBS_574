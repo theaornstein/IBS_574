{
 "cells": [
  {
   "cell_type": "markdown",
   "metadata": {},
   "source": [
    "# IBS 574 Python Homework 3"
   ]
  },
  {
   "cell_type": "markdown",
   "metadata": {},
   "source": [
    "#### Add your name and the date your notebook was last updated"
   ]
  },
  {
   "cell_type": "code",
   "execution_count": 1,
   "metadata": {},
   "outputs": [
    {
     "name": "stdout",
     "output_type": "stream",
     "text": [
      "Thea Ornstein 2020-02-18\n"
     ]
    }
   ],
   "source": [
    "%load_ext watermark\n",
    "%watermark -a \"Thea Ornstein\" -d "
   ]
  },
  {
   "cell_type": "markdown",
   "metadata": {},
   "source": [
    "#### Load libraries"
   ]
  },
  {
   "cell_type": "code",
   "execution_count": 2,
   "metadata": {},
   "outputs": [],
   "source": [
    "import watermark\n",
    "import pandas as pd\n",
    "import numpy as np\n",
    "from sinfo import sinfo\n",
    "from sklearn.decomposition import PCA\n",
    "from sklearn import preprocessing\n",
    "from sklearn.preprocessing import StandardScaler\n",
    "import seaborn as sns\n",
    "import random \n",
    "import matplotlib.pyplot as plt\n"
   ]
  },
  {
   "cell_type": "markdown",
   "metadata": {},
   "source": [
    "#### Load data\n",
    "note: include test for this chunk from previous homework"
   ]
  },
  {
   "cell_type": "code",
   "execution_count": 3,
   "metadata": {},
   "outputs": [
    {
     "data": {
      "text/plain": [
       "True"
      ]
     },
     "execution_count": 3,
     "metadata": {},
     "output_type": "execute_result"
    }
   ],
   "source": [
    "countdata = \"https://raw.githubusercontent.com/jessmrandall/IBS574Spring2020/master/data/countdata.csv\"\n",
    "counts = pd.read_csv(countdata, index_col = 0, sep = \"\\t\")\n",
    "len(counts) == 14944"
   ]
  },
  {
   "cell_type": "markdown",
   "metadata": {},
   "source": [
    "#### Prepare data for PCA Analysis"
   ]
  },
  {
   "cell_type": "code",
   "execution_count": 4,
   "metadata": {},
   "outputs": [],
   "source": [
    "counts_transpose = counts.T\n",
    "len(counts_transpose) == 14\n",
    "\n",
    "group = [\"Control\", \"Control\", \"Control\", \"Control\", \"Control\", \"Control\", \"Control\",\n",
    "        \"Case\", \"Case\", \"Case\", \"Case\", \"Case\",\"Case\", \"Case\",]\n",
    "\n",
    "counts_transpose[\"group\"] = group"
   ]
  },
  {
   "cell_type": "markdown",
   "metadata": {},
   "source": [
    "#### Determine Principal Components\n",
    "note: include test for this chunk from previous homework"
   ]
  },
  {
   "cell_type": "code",
   "execution_count": 5,
   "metadata": {},
   "outputs": [],
   "source": [
    "features = pd.Series(counts_transpose.columns)[0:14944]\n",
    "\n",
    "feature_arr = counts_transpose.loc[:, features].values\n",
    "\n",
    "target_arr = counts_transpose.loc[:, [\"group\"]].values\n",
    "\n",
    "fitted_features = StandardScaler().fit_transform(feature_arr)"
   ]
  },
  {
   "cell_type": "code",
   "execution_count": 6,
   "metadata": {},
   "outputs": [
    {
     "data": {
      "text/plain": [
       "False"
      ]
     },
     "execution_count": 6,
     "metadata": {},
     "output_type": "execute_result"
    }
   ],
   "source": [
    "random.seed(888)\n",
    "\n",
    "pca = PCA(n_components = 2, random_state = 888)\n",
    "\n",
    "principalComponents = pca.fit_transform(fitted_features)\n",
    "\n",
    "principalDataframe = pd.DataFrame(data = principalComponents, columns = ['PC1', 'PC2'])\n",
    "\n",
    "principalDataframe.index = counts_transpose.index\n",
    "\n",
    "targetDataframe = counts_transpose[[\"group\"]]\n",
    "\n",
    "newDataframe = pd.concat([principalDataframe, targetDataframe], axis = 1)\n",
    "\n",
    "principalDataframe[\"PC1\"].max() == 126.57815113747459"
   ]
  },
  {
   "cell_type": "markdown",
   "metadata": {},
   "source": [
    "#### Graph the principal components by sample group"
   ]
  },
  {
   "cell_type": "code",
   "execution_count": 7,
   "metadata": {},
   "outputs": [
    {
     "data": {
      "text/plain": [
       "<seaborn.axisgrid.FacetGrid at 0x127208640>"
      ]
     },
     "execution_count": 7,
     "metadata": {},
     "output_type": "execute_result"
    },
    {
     "data": {
      "image/png": "[encoded data removed]",
      "text/plain": [
       "<Figure size 479.275x360 with 1 Axes>"
      ]
     },
     "metadata": {
      "needs_background": "light"
     },
     "output_type": "display_data"
    }
   ],
   "source": [
    "\n",
    "sns.set_context(\"notebook\", font_scale=1.5, rc={\"font.size\":8,\"axes.labelsize\":20})\n",
    "\n",
    "     \n",
    "a=sns.lmplot( x=\"PC1\", y=\"PC2\",\n",
    "           data=newDataframe,\n",
    "           fit_reg=False,\n",
    "           hue='group',\n",
    "           palette=\"PuRd_r\",\n",
    "           legend_out=True, \n",
    "                scatter_kws={\"s\":50}) \n",
    "\n",
    "plt.title(\"PCA Analysis\")\n",
    "\n",
    "a.set_xticklabels(rotation=30)\n",
    "\n",
    "\n",
    "\n"
   ]
  },
  {
   "cell_type": "markdown",
   "metadata": {},
   "source": [
    "#### Interpret the graph for your principal investigator using explained variance"
   ]
  },
  {
   "cell_type": "code",
   "execution_count": 8,
   "metadata": {},
   "outputs": [
    {
     "data": {
      "text/plain": [
       "array([0.39218002, 0.36808828])"
      ]
     },
     "execution_count": 8,
     "metadata": {},
     "output_type": "execute_result"
    }
   ],
   "source": [
    "pca.explained_variance_ratio_"
   ]
  },
  {
   "cell_type": "markdown",
   "metadata": {},
   "source": [
    "Approximately 39.2% of the variability between these sample groups is explained by a sample being either a case or a control. \n",
    "Approximately 36.88% can be attributed to another variable unaccounted for in the experimental design."
   ]
  },
  {
   "cell_type": "markdown",
   "metadata": {},
   "source": [
    "#### Report Session Information\n"
   ]
  },
  {
   "cell_type": "code",
   "execution_count": 9,
   "metadata": {},
   "outputs": [
    {
     "name": "stdout",
     "output_type": "stream",
     "text": [
      "-----\n",
      "matplotlib  3.1.3\n",
      "numpy       1.18.1\n",
      "pandas      0.25.3\n",
      "seaborn     0.10.0\n",
      "sinfo       0.3.1\n",
      "sklearn     0.22.1\n",
      "watermark   2.0.2\n",
      "-----\n",
      "IPython             7.11.1\n",
      "jupyter_client      5.3.4\n",
      "jupyter_core        4.6.1\n",
      "notebook            6.0.3\n",
      "-----\n",
      "Python 3.8.1 (default, Jan  8 2020, 16:15:59) [Clang 4.0.1 (tags/RELEASE_401/final)]\n",
      "macOS-10.15.3-x86_64-i386-64bit\n",
      "4 logical CPU cores, i386\n",
      "-----\n",
      "Session information updated at 2020-02-18 08:42\n"
     ]
    }
   ],
   "source": [
    "sinfo()"
   ]
  }
 ],
 "metadata": {
  "kernelspec": {
   "display_name": "Python 3",
   "language": "python",
   "name": "python3"
  },
  "language_info": {
   "codemirror_mode": {
    "name": "ipython",
    "version": 3
   },
   "file_extension": ".py",
   "mimetype": "text/x-python",
   "name": "python",
   "nbconvert_exporter": "python",
   "pygments_lexer": "ipython3",
   "version": "3.8.1"
  }
 },
 "nbformat": 4,
 "nbformat_minor": 2
}
