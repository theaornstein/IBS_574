{
 "cells": [
  {
   "cell_type": "markdown",
   "metadata": {},
   "source": [
    "# IBS 574 Python Homework 2: Thea Ornstein\n"
   ]
  },
  {
   "cell_type": "markdown",
   "metadata": {},
   "source": [
    "#### Add your name and the date your notebook was last updated"
   ]
  },
  {
   "cell_type": "code",
   "execution_count": 1,
   "metadata": {},
   "outputs": [
    {
     "name": "stdout",
     "output_type": "stream",
     "text": [
      "Thea Ornstein 2020-02-11\n"
     ]
    }
   ],
   "source": [
    "%load_ext watermark\n",
    "%watermark -a \"Thea Ornstein\" -d "
   ]
  },
  {
   "cell_type": "markdown",
   "metadata": {},
   "source": [
    "#### Load libraries"
   ]
  },
  {
   "cell_type": "code",
   "execution_count": 2,
   "metadata": {},
   "outputs": [],
   "source": [
    "import watermark\n",
    "import pandas as pd\n",
    "import numpy as np\n",
    "from sinfo import sinfo\n",
    "from sklearn.decomposition import PCA\n",
    "from sklearn import preprocessing\n",
    "from sklearn.preprocessing import StandardScaler\n",
    "import seaborn as sns\n",
    "import random "
   ]
  },
  {
   "cell_type": "markdown",
   "metadata": {},
   "source": [
    "#### Load data\n",
    "note: include your test for this chunk from previous homework"
   ]
  },
  {
   "cell_type": "code",
   "execution_count": 3,
   "metadata": {},
   "outputs": [
    {
     "data": {
      "text/plain": [
       "True"
      ]
     },
     "execution_count": 3,
     "metadata": {},
     "output_type": "execute_result"
    }
   ],
   "source": [
    "countdata = \"https://raw.githubusercontent.com/jessmrandall/IBS574Spring2020/master/data/countdata.csv\"\n",
    "counts = pd.read_csv(countdata, index_col=0, sep=\"\\t\")\n",
    "len(counts)==14944\n"
   ]
  },
  {
   "cell_type": "markdown",
   "metadata": {},
   "source": [
    "#### Transpose counts"
   ]
  },
  {
   "cell_type": "code",
   "execution_count": 4,
   "metadata": {},
   "outputs": [
    {
     "data": {
      "text/html": [
       "<div>\n",
       "<style scoped>\n",
       "    .dataframe tbody tr th:only-of-type {\n",
       "        vertical-align: middle;\n",
       "    }\n",
       "\n",
       "    .dataframe tbody tr th {\n",
       "        vertical-align: top;\n",
       "    }\n",
       "\n",
       "    .dataframe thead th {\n",
       "        text-align: right;\n",
       "    }\n",
       "</style>\n",
       "<table border=\"1\" class=\"dataframe\">\n",
       "  <thead>\n",
       "    <tr style=\"text-align: right;\">\n",
       "      <th>id</th>\n",
       "      <th>Aaas</th>\n",
       "      <th>Aacs</th>\n",
       "      <th>Aadac</th>\n",
       "      <th>Aadacl2</th>\n",
       "      <th>Aadacl3</th>\n",
       "      <th>Aadat</th>\n",
       "      <th>Aaed1</th>\n",
       "      <th>Aagab</th>\n",
       "      <th>Aak1</th>\n",
       "      <th>Aamdc</th>\n",
       "      <th>...</th>\n",
       "      <th>Zfyve26</th>\n",
       "      <th>Zfyve27</th>\n",
       "      <th>Zfyve28</th>\n",
       "      <th>Zfyve9</th>\n",
       "      <th>Zxdc</th>\n",
       "      <th>Zyg11a</th>\n",
       "      <th>Zyg11b</th>\n",
       "      <th>Zyx</th>\n",
       "      <th>Zzef1</th>\n",
       "      <th>Zzz3</th>\n",
       "    </tr>\n",
       "  </thead>\n",
       "  <tbody>\n",
       "    <tr>\n",
       "      <th>T02</th>\n",
       "      <td>4341</td>\n",
       "      <td>11693</td>\n",
       "      <td>0</td>\n",
       "      <td>0</td>\n",
       "      <td>0</td>\n",
       "      <td>0</td>\n",
       "      <td>1173</td>\n",
       "      <td>2618</td>\n",
       "      <td>4239</td>\n",
       "      <td>165</td>\n",
       "      <td>...</td>\n",
       "      <td>1766</td>\n",
       "      <td>3396</td>\n",
       "      <td>6</td>\n",
       "      <td>1937</td>\n",
       "      <td>1211</td>\n",
       "      <td>8</td>\n",
       "      <td>4133</td>\n",
       "      <td>12810</td>\n",
       "      <td>4269</td>\n",
       "      <td>8717</td>\n",
       "    </tr>\n",
       "    <tr>\n",
       "      <th>T04</th>\n",
       "      <td>4052</td>\n",
       "      <td>10913</td>\n",
       "      <td>0</td>\n",
       "      <td>0</td>\n",
       "      <td>0</td>\n",
       "      <td>0</td>\n",
       "      <td>1095</td>\n",
       "      <td>2443</td>\n",
       "      <td>3956</td>\n",
       "      <td>154</td>\n",
       "      <td>...</td>\n",
       "      <td>1648</td>\n",
       "      <td>3170</td>\n",
       "      <td>6</td>\n",
       "      <td>1807</td>\n",
       "      <td>1130</td>\n",
       "      <td>7</td>\n",
       "      <td>3857</td>\n",
       "      <td>11956</td>\n",
       "      <td>3984</td>\n",
       "      <td>8135</td>\n",
       "    </tr>\n",
       "    <tr>\n",
       "      <th>T06</th>\n",
       "      <td>3762</td>\n",
       "      <td>10134</td>\n",
       "      <td>0</td>\n",
       "      <td>0</td>\n",
       "      <td>0</td>\n",
       "      <td>0</td>\n",
       "      <td>1017</td>\n",
       "      <td>2269</td>\n",
       "      <td>3674</td>\n",
       "      <td>143</td>\n",
       "      <td>...</td>\n",
       "      <td>1530</td>\n",
       "      <td>2943</td>\n",
       "      <td>5</td>\n",
       "      <td>1678</td>\n",
       "      <td>1049</td>\n",
       "      <td>7</td>\n",
       "      <td>3582</td>\n",
       "      <td>11102</td>\n",
       "      <td>3700</td>\n",
       "      <td>7554</td>\n",
       "    </tr>\n",
       "    <tr>\n",
       "      <th>T08</th>\n",
       "      <td>3473</td>\n",
       "      <td>9354</td>\n",
       "      <td>0</td>\n",
       "      <td>0</td>\n",
       "      <td>0</td>\n",
       "      <td>0</td>\n",
       "      <td>938</td>\n",
       "      <td>2094</td>\n",
       "      <td>3391</td>\n",
       "      <td>132</td>\n",
       "      <td>...</td>\n",
       "      <td>1412</td>\n",
       "      <td>2717</td>\n",
       "      <td>5</td>\n",
       "      <td>1549</td>\n",
       "      <td>968</td>\n",
       "      <td>6</td>\n",
       "      <td>3306</td>\n",
       "      <td>10248</td>\n",
       "      <td>3415</td>\n",
       "      <td>6973</td>\n",
       "    </tr>\n",
       "    <tr>\n",
       "      <th>T10</th>\n",
       "      <td>2894</td>\n",
       "      <td>7795</td>\n",
       "      <td>0</td>\n",
       "      <td>0</td>\n",
       "      <td>0</td>\n",
       "      <td>0</td>\n",
       "      <td>782</td>\n",
       "      <td>1745</td>\n",
       "      <td>2826</td>\n",
       "      <td>110</td>\n",
       "      <td>...</td>\n",
       "      <td>1177</td>\n",
       "      <td>2264</td>\n",
       "      <td>4</td>\n",
       "      <td>1291</td>\n",
       "      <td>807</td>\n",
       "      <td>5</td>\n",
       "      <td>2755</td>\n",
       "      <td>8540</td>\n",
       "      <td>2846</td>\n",
       "      <td>5811</td>\n",
       "    </tr>\n",
       "  </tbody>\n",
       "</table>\n",
       "<p>5 rows × 14944 columns</p>\n",
       "</div>"
      ],
      "text/plain": [
       "id   Aaas   Aacs  Aadac  Aadacl2  Aadacl3  Aadat  Aaed1  Aagab  Aak1  Aamdc  \\\n",
       "T02  4341  11693      0        0        0      0   1173   2618  4239    165   \n",
       "T04  4052  10913      0        0        0      0   1095   2443  3956    154   \n",
       "T06  3762  10134      0        0        0      0   1017   2269  3674    143   \n",
       "T08  3473   9354      0        0        0      0    938   2094  3391    132   \n",
       "T10  2894   7795      0        0        0      0    782   1745  2826    110   \n",
       "\n",
       "id   ...  Zfyve26  Zfyve27  Zfyve28  Zfyve9  Zxdc  Zyg11a  Zyg11b    Zyx  \\\n",
       "T02  ...     1766     3396        6    1937  1211       8    4133  12810   \n",
       "T04  ...     1648     3170        6    1807  1130       7    3857  11956   \n",
       "T06  ...     1530     2943        5    1678  1049       7    3582  11102   \n",
       "T08  ...     1412     2717        5    1549   968       6    3306  10248   \n",
       "T10  ...     1177     2264        4    1291   807       5    2755   8540   \n",
       "\n",
       "id   Zzef1  Zzz3  \n",
       "T02   4269  8717  \n",
       "T04   3984  8135  \n",
       "T06   3700  7554  \n",
       "T08   3415  6973  \n",
       "T10   2846  5811  \n",
       "\n",
       "[5 rows x 14944 columns]"
      ]
     },
     "execution_count": 4,
     "metadata": {},
     "output_type": "execute_result"
    }
   ],
   "source": [
    "counts_transpose= counts.T\n",
    "len(counts_transpose) ==14\n",
    "counts_transpose.head()"
   ]
  },
  {
   "cell_type": "markdown",
   "metadata": {},
   "source": [
    "#### Add a column of target values to the transposed data frame"
   ]
  },
  {
   "cell_type": "code",
   "execution_count": 5,
   "metadata": {},
   "outputs": [],
   "source": [
    "group = [\"Control\",\"Control\",\"Control\",\"Control\",\"Control\",\"Control\",\"Control\",\n",
    "        \"Case\",\"Case\",\"Case\",\"Case\",\"Case\",\"Case\",\"Case\",]\n",
    "\n",
    "counts_transpose[\"group\"] = group\n"
   ]
  },
  {
   "cell_type": "markdown",
   "metadata": {},
   "source": [
    "#### Perform Scaling"
   ]
  },
  {
   "cell_type": "code",
   "execution_count": 6,
   "metadata": {},
   "outputs": [],
   "source": [
    "features = pd.Series(counts_transpose.columns)[0:14944]\n",
    "\n",
    "features_arr = counts_transpose.loc[:,features].values\n",
    "\n",
    "target_arr = counts_transpose.loc[:, [\"group\"]].values\n",
    "\n",
    "fitted_features= StandardScaler().fit_transform(features_arr)\n",
    "\n",
    "\n"
   ]
  },
  {
   "cell_type": "markdown",
   "metadata": {},
   "source": [
    "#### Determine Principal Components & Combine with Target"
   ]
  },
  {
   "cell_type": "code",
   "execution_count": 7,
   "metadata": {},
   "outputs": [],
   "source": [
    "random.seed(888)\n",
    "\n",
    "pca=PCA(n_components = 2, random_state = 888)\n",
    "principleComponents = pca.fit_transform(fitted_features)\n",
    "principalDataframe = pd.DataFrame(data = principleComponents, columns = ['PC1','PC2'])\n",
    "principalDataframe.index = counts_transpose.index\n",
    "targetDataframe =counts_transpose[[\"group\"]]\n",
    "newDataframe = pd.concat([principalDataframe,targetDataframe], axis=1)"
   ]
  },
  {
   "cell_type": "markdown",
   "metadata": {},
   "source": [
    "#### Test that principal components were computed correctly & combined sucessfully"
   ]
  },
  {
   "cell_type": "code",
   "execution_count": 8,
   "metadata": {},
   "outputs": [
    {
     "data": {
      "text/plain": [
       "True"
      ]
     },
     "execution_count": 8,
     "metadata": {},
     "output_type": "execute_result"
    }
   ],
   "source": [
    "principalDataframe[\"PC1\"].max() == 126.57815113747405\n",
    "\n"
   ]
  },
  {
   "cell_type": "markdown",
   "metadata": {},
   "source": [
    "#### Report Session Information\n"
   ]
  },
  {
   "cell_type": "code",
   "execution_count": 9,
   "metadata": {},
   "outputs": [
    {
     "name": "stdout",
     "output_type": "stream",
     "text": [
      "-----\n",
      "numpy       1.18.1\n",
      "pandas      0.25.3\n",
      "seaborn     0.10.0\n",
      "sinfo       0.3.1\n",
      "sklearn     0.22.1\n",
      "watermark   2.0.2\n",
      "-----\n",
      "IPython             7.11.1\n",
      "jupyter_client      5.3.4\n",
      "jupyter_core        4.6.1\n",
      "notebook            6.0.3\n",
      "-----\n",
      "Python 3.8.1 (default, Jan  8 2020, 16:15:59) [Clang 4.0.1 (tags/RELEASE_401/final)]\n",
      "macOS-10.15.2-x86_64-i386-64bit\n",
      "4 logical CPU cores, i386\n",
      "-----\n",
      "Session information updated at 2020-02-11 09:13\n"
     ]
    }
   ],
   "source": [
    "sinfo()"
   ]
  }
 ],
 "metadata": {
  "kernelspec": {
   "display_name": "Python 3",
   "language": "python",
   "name": "python3"
  },
  "language_info": {
   "codemirror_mode": {
    "name": "ipython",
    "version": 3
   },
   "file_extension": ".py",
   "mimetype": "text/x-python",
   "name": "python",
   "nbconvert_exporter": "python",
   "pygments_lexer": "ipython3",
   "version": "3.8.1"
  }
 },
 "nbformat": 4,
 "nbformat_minor": 2
}
